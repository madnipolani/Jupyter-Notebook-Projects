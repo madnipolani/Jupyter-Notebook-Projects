{
 "cells": [
  {
   "cell_type": "markdown",
   "id": "d698f380",
   "metadata": {},
   "source": [
    "### Background: \n",
    "\n",
    "***An online news portal aims to expand its business by acquiring new subscribers. Every visitor to the website takes certain actions based on their interest. The company plans to analyze these interests and wants to determine whether a new feature will be effective or not. Companies often analyze users' responses to two variants of a product to decide which of the two variants is more effective. This experimental technique is known as a/b testing that is used to determine whether a new feature attracts users based on a chosen metric.***\n",
    "\n",
    "***Suppose you are hired as a Data Scientist in E-news Express. The design team of the company has created a new landing page. You have been assigned the task to decide whether the new landing page is more effective to gather new subscribers. Suppose you randomly selected 100 users and divided them equally into two groups. The old landing page is served to the first group (control group) and the new landing page is served to the second group (treatment group). Various data about the customers in both groups are collected in 'abtest.csv'. Perform the statistical analysis to answer the following questions using the collected data.***\n",
    "\n",
    "### Objective:\n",
    "\n",
    "Statistical analysis of business data. Explore the dataset and extract insights from the data. The idea is for you to get comfortable with doing statistical analysis in Python.\n",
    "\n",
    "You are expected to perform the statistical analysis to answer the following questions:\n",
    "\n",
    "1. Explore the dataset and extract insights using Exploratory Data Analysis.\n",
    "2. Do the users spend more time on the new landing page than the old landing page?\n",
    "3. Is the conversion rate (the proportion of users who visit the landing page and get converted) for the new page greater than the conversion rate for the old page?\n",
    "4. Does the converted status depend on the preferred language? [Hint: Create a contingency table using the pandas.crosstab() function]\n",
    "5. Is the mean time spent on the new page same for the different language users?\n"
   ]
  },
  {
   "cell_type": "markdown",
   "id": "a5bbd2cd",
   "metadata": {},
   "source": [
    "# 1. Explore the dataset and extract insights using Exploratory Data Analysis"
   ]
  },
  {
   "cell_type": "code",
   "execution_count": 1,
   "id": "d8350c5c",
   "metadata": {},
   "outputs": [
    {
     "name": "stdout",
     "output_type": "stream",
     "text": [
      "Requirement already satisfied: scipy==1.6.1 in /Users/madnipolani/Desktop/anaconda3/lib/python3.8/site-packages (1.6.1)\r\n",
      "Requirement already satisfied: numpy>=1.16.5 in /Users/madnipolani/Desktop/anaconda3/lib/python3.8/site-packages (from scipy==1.6.1) (1.20.1)\r\n"
     ]
    }
   ],
   "source": [
    "!pip install scipy==1.6.1"
   ]
  },
  {
   "cell_type": "code",
   "execution_count": 2,
   "id": "581dfff1",
   "metadata": {},
   "outputs": [
    {
     "data": {
      "text/plain": [
       "'1.6.1'"
      ]
     },
     "execution_count": 2,
     "metadata": {},
     "output_type": "execute_result"
    }
   ],
   "source": [
    "import scipy\n",
    "scipy.__version__"
   ]
  },
  {
   "cell_type": "code",
   "execution_count": 3,
   "id": "54df65ea",
   "metadata": {},
   "outputs": [],
   "source": [
    "# import  libraries for data manipulation \n",
    "import pandas as pd \n",
    "import numpy as np \n",
    "\n",
    "#import  libraries for data visualization \n",
    "import matplotlib.pyplot as plt \n",
    "import seaborn as sns \n",
    "%matplotlib inline \n",
    "# import probability distribution and statistical functions libraries\n",
    "import scipy.stats as stats"
   ]
  },
  {
   "cell_type": "code",
   "execution_count": 4,
   "id": "98194f47",
   "metadata": {},
   "outputs": [],
   "source": [
    "# read the data\n",
    "ab_test = pd.read_csv(\"abtest.csv\")"
   ]
  },
  {
   "cell_type": "code",
   "execution_count": 5,
   "id": "25779a15",
   "metadata": {
    "scrolled": true
   },
   "outputs": [
    {
     "data": {
      "text/html": [
       "<div>\n",
       "<style scoped>\n",
       "    .dataframe tbody tr th:only-of-type {\n",
       "        vertical-align: middle;\n",
       "    }\n",
       "\n",
       "    .dataframe tbody tr th {\n",
       "        vertical-align: top;\n",
       "    }\n",
       "\n",
       "    .dataframe thead th {\n",
       "        text-align: right;\n",
       "    }\n",
       "</style>\n",
       "<table border=\"1\" class=\"dataframe\">\n",
       "  <thead>\n",
       "    <tr style=\"text-align: right;\">\n",
       "      <th></th>\n",
       "      <th>user_id</th>\n",
       "      <th>group</th>\n",
       "      <th>landing_page</th>\n",
       "      <th>time_spent_on_the_page</th>\n",
       "      <th>converted</th>\n",
       "      <th>language_preferred</th>\n",
       "    </tr>\n",
       "  </thead>\n",
       "  <tbody>\n",
       "    <tr>\n",
       "      <th>0</th>\n",
       "      <td>546592</td>\n",
       "      <td>control</td>\n",
       "      <td>old</td>\n",
       "      <td>3.48</td>\n",
       "      <td>no</td>\n",
       "      <td>Spanish</td>\n",
       "    </tr>\n",
       "    <tr>\n",
       "      <th>1</th>\n",
       "      <td>546468</td>\n",
       "      <td>treatment</td>\n",
       "      <td>new</td>\n",
       "      <td>7.13</td>\n",
       "      <td>yes</td>\n",
       "      <td>English</td>\n",
       "    </tr>\n",
       "    <tr>\n",
       "      <th>2</th>\n",
       "      <td>546462</td>\n",
       "      <td>treatment</td>\n",
       "      <td>new</td>\n",
       "      <td>4.40</td>\n",
       "      <td>no</td>\n",
       "      <td>Spanish</td>\n",
       "    </tr>\n",
       "    <tr>\n",
       "      <th>3</th>\n",
       "      <td>546567</td>\n",
       "      <td>control</td>\n",
       "      <td>old</td>\n",
       "      <td>3.02</td>\n",
       "      <td>no</td>\n",
       "      <td>French</td>\n",
       "    </tr>\n",
       "    <tr>\n",
       "      <th>4</th>\n",
       "      <td>546459</td>\n",
       "      <td>treatment</td>\n",
       "      <td>new</td>\n",
       "      <td>4.75</td>\n",
       "      <td>yes</td>\n",
       "      <td>Spanish</td>\n",
       "    </tr>\n",
       "  </tbody>\n",
       "</table>\n",
       "</div>"
      ],
      "text/plain": [
       "   user_id      group landing_page  time_spent_on_the_page converted  \\\n",
       "0   546592    control          old                    3.48        no   \n",
       "1   546468  treatment          new                    7.13       yes   \n",
       "2   546462  treatment          new                    4.40        no   \n",
       "3   546567    control          old                    3.02        no   \n",
       "4   546459  treatment          new                    4.75       yes   \n",
       "\n",
       "  language_preferred  \n",
       "0            Spanish  \n",
       "1            English  \n",
       "2            Spanish  \n",
       "3             French  \n",
       "4            Spanish  "
      ]
     },
     "execution_count": 5,
     "metadata": {},
     "output_type": "execute_result"
    }
   ],
   "source": [
    "# rest top 5 rows\n",
    "ab_test.head()"
   ]
  },
  {
   "cell_type": "code",
   "execution_count": 9,
   "id": "375fac14",
   "metadata": {},
   "outputs": [
    {
     "data": {
      "text/plain": [
       "(100, 6)"
      ]
     },
     "execution_count": 9,
     "metadata": {},
     "output_type": "execute_result"
    }
   ],
   "source": [
    "#how many rows and columns\n",
    "ab_test.shape"
   ]
  },
  {
   "cell_type": "code",
   "execution_count": 10,
   "id": "f2235315",
   "metadata": {},
   "outputs": [
    {
     "name": "stdout",
     "output_type": "stream",
     "text": [
      "<class 'pandas.core.frame.DataFrame'>\n",
      "RangeIndex: 100 entries, 0 to 99\n",
      "Data columns (total 6 columns):\n",
      " #   Column                  Non-Null Count  Dtype  \n",
      "---  ------                  --------------  -----  \n",
      " 0   user_id                 100 non-null    int64  \n",
      " 1   group                   100 non-null    object \n",
      " 2   landing_page            100 non-null    object \n",
      " 3   time_spent_on_the_page  100 non-null    float64\n",
      " 4   converted               100 non-null    object \n",
      " 5   language_preferred      100 non-null    object \n",
      "dtypes: float64(1), int64(1), object(4)\n",
      "memory usage: 4.8+ KB\n"
     ]
    }
   ],
   "source": [
    "# concise summary of DataFrame\n",
    "ab_test.info()"
   ]
  },
  {
   "cell_type": "code",
   "execution_count": 11,
   "id": "6820d9f9",
   "metadata": {},
   "outputs": [
    {
     "data": {
      "text/html": [
       "<div>\n",
       "<style scoped>\n",
       "    .dataframe tbody tr th:only-of-type {\n",
       "        vertical-align: middle;\n",
       "    }\n",
       "\n",
       "    .dataframe tbody tr th {\n",
       "        vertical-align: top;\n",
       "    }\n",
       "\n",
       "    .dataframe thead th {\n",
       "        text-align: right;\n",
       "    }\n",
       "</style>\n",
       "<table border=\"1\" class=\"dataframe\">\n",
       "  <thead>\n",
       "    <tr style=\"text-align: right;\">\n",
       "      <th></th>\n",
       "      <th>user_id</th>\n",
       "      <th>group</th>\n",
       "      <th>landing_page</th>\n",
       "      <th>time_spent_on_the_page</th>\n",
       "      <th>converted</th>\n",
       "      <th>language_preferred</th>\n",
       "    </tr>\n",
       "  </thead>\n",
       "  <tbody>\n",
       "    <tr>\n",
       "      <th>count</th>\n",
       "      <td>100.000000</td>\n",
       "      <td>100</td>\n",
       "      <td>100</td>\n",
       "      <td>100.000000</td>\n",
       "      <td>100</td>\n",
       "      <td>100</td>\n",
       "    </tr>\n",
       "    <tr>\n",
       "      <th>unique</th>\n",
       "      <td>NaN</td>\n",
       "      <td>2</td>\n",
       "      <td>2</td>\n",
       "      <td>NaN</td>\n",
       "      <td>2</td>\n",
       "      <td>3</td>\n",
       "    </tr>\n",
       "    <tr>\n",
       "      <th>top</th>\n",
       "      <td>NaN</td>\n",
       "      <td>control</td>\n",
       "      <td>old</td>\n",
       "      <td>NaN</td>\n",
       "      <td>yes</td>\n",
       "      <td>Spanish</td>\n",
       "    </tr>\n",
       "    <tr>\n",
       "      <th>freq</th>\n",
       "      <td>NaN</td>\n",
       "      <td>50</td>\n",
       "      <td>50</td>\n",
       "      <td>NaN</td>\n",
       "      <td>54</td>\n",
       "      <td>34</td>\n",
       "    </tr>\n",
       "    <tr>\n",
       "      <th>mean</th>\n",
       "      <td>546517.000000</td>\n",
       "      <td>NaN</td>\n",
       "      <td>NaN</td>\n",
       "      <td>5.377800</td>\n",
       "      <td>NaN</td>\n",
       "      <td>NaN</td>\n",
       "    </tr>\n",
       "    <tr>\n",
       "      <th>std</th>\n",
       "      <td>52.295779</td>\n",
       "      <td>NaN</td>\n",
       "      <td>NaN</td>\n",
       "      <td>2.378166</td>\n",
       "      <td>NaN</td>\n",
       "      <td>NaN</td>\n",
       "    </tr>\n",
       "    <tr>\n",
       "      <th>min</th>\n",
       "      <td>546443.000000</td>\n",
       "      <td>NaN</td>\n",
       "      <td>NaN</td>\n",
       "      <td>0.190000</td>\n",
       "      <td>NaN</td>\n",
       "      <td>NaN</td>\n",
       "    </tr>\n",
       "    <tr>\n",
       "      <th>25%</th>\n",
       "      <td>546467.750000</td>\n",
       "      <td>NaN</td>\n",
       "      <td>NaN</td>\n",
       "      <td>3.880000</td>\n",
       "      <td>NaN</td>\n",
       "      <td>NaN</td>\n",
       "    </tr>\n",
       "    <tr>\n",
       "      <th>50%</th>\n",
       "      <td>546492.500000</td>\n",
       "      <td>NaN</td>\n",
       "      <td>NaN</td>\n",
       "      <td>5.415000</td>\n",
       "      <td>NaN</td>\n",
       "      <td>NaN</td>\n",
       "    </tr>\n",
       "    <tr>\n",
       "      <th>75%</th>\n",
       "      <td>546567.250000</td>\n",
       "      <td>NaN</td>\n",
       "      <td>NaN</td>\n",
       "      <td>7.022500</td>\n",
       "      <td>NaN</td>\n",
       "      <td>NaN</td>\n",
       "    </tr>\n",
       "    <tr>\n",
       "      <th>max</th>\n",
       "      <td>546592.000000</td>\n",
       "      <td>NaN</td>\n",
       "      <td>NaN</td>\n",
       "      <td>10.710000</td>\n",
       "      <td>NaN</td>\n",
       "      <td>NaN</td>\n",
       "    </tr>\n",
       "  </tbody>\n",
       "</table>\n",
       "</div>"
      ],
      "text/plain": [
       "              user_id    group landing_page  time_spent_on_the_page converted  \\\n",
       "count      100.000000      100          100              100.000000       100   \n",
       "unique            NaN        2            2                     NaN         2   \n",
       "top               NaN  control          old                     NaN       yes   \n",
       "freq              NaN       50           50                     NaN        54   \n",
       "mean    546517.000000      NaN          NaN                5.377800       NaN   \n",
       "std         52.295779      NaN          NaN                2.378166       NaN   \n",
       "min     546443.000000      NaN          NaN                0.190000       NaN   \n",
       "25%     546467.750000      NaN          NaN                3.880000       NaN   \n",
       "50%     546492.500000      NaN          NaN                5.415000       NaN   \n",
       "75%     546567.250000      NaN          NaN                7.022500       NaN   \n",
       "max     546592.000000      NaN          NaN               10.710000       NaN   \n",
       "\n",
       "       language_preferred  \n",
       "count                 100  \n",
       "unique                  3  \n",
       "top               Spanish  \n",
       "freq                   34  \n",
       "mean                  NaN  \n",
       "std                   NaN  \n",
       "min                   NaN  \n",
       "25%                   NaN  \n",
       "50%                   NaN  \n",
       "75%                   NaN  \n",
       "max                   NaN  "
      ]
     },
     "execution_count": 11,
     "metadata": {},
     "output_type": "execute_result"
    }
   ],
   "source": [
    "# summary statistics\n",
    "ab_test.describe(include='all')"
   ]
  },
  {
   "cell_type": "code",
   "execution_count": 14,
   "id": "102024c3",
   "metadata": {},
   "outputs": [
    {
     "data": {
      "text/html": [
       "<div>\n",
       "<style scoped>\n",
       "    .dataframe tbody tr th:only-of-type {\n",
       "        vertical-align: middle;\n",
       "    }\n",
       "\n",
       "    .dataframe tbody tr th {\n",
       "        vertical-align: top;\n",
       "    }\n",
       "\n",
       "    .dataframe thead th {\n",
       "        text-align: right;\n",
       "    }\n",
       "</style>\n",
       "<table border=\"1\" class=\"dataframe\">\n",
       "  <thead>\n",
       "    <tr style=\"text-align: right;\">\n",
       "      <th></th>\n",
       "      <th>group</th>\n",
       "      <th>landing_page</th>\n",
       "      <th>converted</th>\n",
       "      <th>language_preferred</th>\n",
       "    </tr>\n",
       "  </thead>\n",
       "  <tbody>\n",
       "    <tr>\n",
       "      <th>count</th>\n",
       "      <td>100</td>\n",
       "      <td>100</td>\n",
       "      <td>100</td>\n",
       "      <td>100</td>\n",
       "    </tr>\n",
       "    <tr>\n",
       "      <th>unique</th>\n",
       "      <td>2</td>\n",
       "      <td>2</td>\n",
       "      <td>2</td>\n",
       "      <td>3</td>\n",
       "    </tr>\n",
       "    <tr>\n",
       "      <th>top</th>\n",
       "      <td>control</td>\n",
       "      <td>old</td>\n",
       "      <td>yes</td>\n",
       "      <td>Spanish</td>\n",
       "    </tr>\n",
       "    <tr>\n",
       "      <th>freq</th>\n",
       "      <td>50</td>\n",
       "      <td>50</td>\n",
       "      <td>54</td>\n",
       "      <td>34</td>\n",
       "    </tr>\n",
       "  </tbody>\n",
       "</table>\n",
       "</div>"
      ],
      "text/plain": [
       "          group landing_page converted language_preferred\n",
       "count       100          100       100                100\n",
       "unique        2            2         2                  3\n",
       "top     control          old       yes            Spanish\n",
       "freq         50           50        54                 34"
      ]
     },
     "execution_count": 14,
     "metadata": {},
     "output_type": "execute_result"
    }
   ],
   "source": [
    "# summary of of non-numeric variables  \n",
    "ab_test.describe(exclude='number')"
   ]
  },
  {
   "cell_type": "code",
   "execution_count": 16,
   "id": "2163a6d4",
   "metadata": {},
   "outputs": [
    {
     "name": "stdout",
     "output_type": "stream",
     "text": [
      "control      50\n",
      "treatment    50\n",
      "Name: group, dtype: int64\n",
      "--------------------------------------------------\n",
      "old    50\n",
      "new    50\n",
      "Name: landing_page, dtype: int64\n",
      "--------------------------------------------------\n",
      "yes    54\n",
      "no     46\n",
      "Name: converted, dtype: int64\n",
      "--------------------------------------------------\n",
      "Spanish    34\n",
      "French     34\n",
      "English    32\n",
      "Name: language_preferred, dtype: int64\n",
      "--------------------------------------------------\n"
     ]
    }
   ],
   "source": [
    "#Making a list of all categorical variables \n",
    "cat_col=['group', 'landing_page', 'converted', 'language_preferred']\n",
    "\n",
    "#Printing number of count of each unique value in each column\n",
    "for column in cat_col:\n",
    "    print(ab_test[column].value_counts())\n",
    "    print('-'*50)\n",
    "    \n",
    "# 54 percent from the sample data converted"
   ]
  },
  {
   "cell_type": "code",
   "execution_count": 18,
   "id": "96492157",
   "metadata": {},
   "outputs": [
    {
     "data": {
      "text/plain": [
       "user_id                   0\n",
       "group                     0\n",
       "landing_page              0\n",
       "time_spent_on_the_page    0\n",
       "converted                 0\n",
       "language_preferred        0\n",
       "dtype: int64"
      ]
     },
     "execution_count": 18,
     "metadata": {},
     "output_type": "execute_result"
    }
   ],
   "source": [
    "# checking missing values\n",
    "ab_test.isna().sum()"
   ]
  },
  {
   "cell_type": "code",
   "execution_count": 60,
   "id": "216b5d95",
   "metadata": {},
   "outputs": [
    {
     "data": {
      "text/plain": [
       "Text(0.5, 1.0, 'Overall Time Spent On The Page')"
      ]
     },
     "execution_count": 60,
     "metadata": {},
     "output_type": "execute_result"
    },
    {
     "data": {
      "image/png": "[encoded data removed]",
      "text/plain": [
       "<Figure size 360x360 with 1 Axes>"
      ]
     },
     "metadata": {
      "needs_background": "light"
     },
     "output_type": "display_data"
    }
   ],
   "source": [
    "# distributions of time spent overall\n",
    "sns.displot(ab_test['time_spent_on_the_page'],kde= 'True');\n",
    "plt.title('Overall Time Spent On The Page')"
   ]
  },
  {
   "cell_type": "code",
   "execution_count": 64,
   "id": "fd60182b",
   "metadata": {},
   "outputs": [],
   "source": [
    "\n",
    "def labeled_barplot(data, feature, perc=False, n=None):\n",
    "    \"\"\"\n",
    "    Barplot with percentage at the top\n",
    "\n",
    "    data: dataframe\n",
    "    feature: dataframe column\n",
    "    perc: whether to display percentages instead of count (default is False)\n",
    "    n: displays the top n category levels (default is None, i.e., display all levels)\n",
    "    \"\"\"\n",
    "\n",
    "    total = len(data[feature])  \n",
    "    count = data[feature].nunique()\n",
    "    if n is None:\n",
    "        plt.figure(figsize=(count + 1, 5))\n",
    "    else:\n",
    "        plt.figure(figsize=(n + 1, 5))\n",
    "\n",
    "    plt.xticks(rotation=90, fontsize=15)\n",
    "    ax = sns.countplot(\n",
    "        data=data,\n",
    "        x=feature,\n",
    "        palette=\"Paired\",\n",
    "        order=data[feature].value_counts().index[:n].sort_values(),\n",
    "    )\n",
    "\n",
    "    for p in ax.patches:\n",
    "        if perc == True:\n",
    "            label = \"{:.1f}%\".format(\n",
    "                100 * p.get_height() / total\n",
    "            ) \n",
    "        else:\n",
    "            label = p.get_height()  \n",
    "\n",
    "        x = p.get_x() + p.get_width() / 2 \n",
    "        y = p.get_height()  \n",
    "\n",
    "        ax.annotate(\n",
    "            label,\n",
    "            (x, y),\n",
    "            ha=\"center\",\n",
    "            va=\"center\",\n",
    "            size=12,\n",
    "            xytext=(0, 5),\n",
    "            textcoords=\"offset points\",\n",
    "        )  \n",
    "\n",
    "    plt.show()  "
   ]
  },
  {
   "cell_type": "code",
   "execution_count": 65,
   "id": "eb89ba7e",
   "metadata": {
    "scrolled": true
   },
   "outputs": [
    {
     "data": {
      "text/plain": [
       "<Figure size 1080x504 with 0 Axes>"
      ]
     },
     "metadata": {},
     "output_type": "display_data"
    },
    {
     "data": {
      "image/png": "[encoded data removed]",
      "text/plain": [
       "<Figure size 288x360 with 1 Axes>"
      ]
     },
     "metadata": {
      "needs_background": "light"
     },
     "output_type": "display_data"
    }
   ],
   "source": [
    "plt.figure(figsize=(15,7))\n",
    "labeled_barplot(ab_test, 'language_preferred', perc=True)"
   ]
  },
  {
   "cell_type": "code",
   "execution_count": 33,
   "id": "a952a5fc",
   "metadata": {
    "scrolled": true
   },
   "outputs": [
    {
     "data": {
      "text/plain": [
       "Text(0.5, 1.0, 'Time Distribution Amongt Different Languages')"
      ]
     },
     "execution_count": 33,
     "metadata": {},
     "output_type": "execute_result"
    },
    {
     "data": {
      "image/png": "[encoded data removed]",
      "text/plain": [
       "<Figure size 466.125x360 with 1 Axes>"
      ]
     },
     "metadata": {
      "needs_background": "light"
     },
     "output_type": "display_data"
    }
   ],
   "source": [
    "# time spent depending Language preferred \n",
    "sns.displot(ab_test, x='time_spent_on_the_page', hue='language_preferred')\n",
    "plt.title ('Time Distribution Amongt Different Languages')"
   ]
  },
  {
   "cell_type": "code",
   "execution_count": 61,
   "id": "3c557cae",
   "metadata": {},
   "outputs": [
    {
     "data": {
      "text/plain": [
       "Text(0.5, 1.0, 'Numbers Converted based on Language Preferred')"
      ]
     },
     "execution_count": 61,
     "metadata": {},
     "output_type": "execute_result"
    },
    {
     "data": {
      "image/png": "[encoded data removed]",
      "text/plain": [
       "<Figure size 1080x360 with 1 Axes>"
      ]
     },
     "metadata": {
      "needs_background": "light"
     },
     "output_type": "display_data"
    }
   ],
   "source": [
    "# conversion based on language_type\n",
    "plt.figure (figsize=(15,5))\n",
    "sns.countplot(ab_test['converted'], hue=ab_test['language_preferred']);\n",
    "#English language converted the most out of the 54 while French language converted \n",
    "#the least and most to say no as well. \n",
    "plt.title ('Numbers Converted based on Language Preferred')"
   ]
  },
  {
   "cell_type": "code",
   "execution_count": 69,
   "id": "f1a5074d",
   "metadata": {},
   "outputs": [],
   "source": [
    "#Differentiate data between Old and New \n",
    "#old will be the data that includes the control group \n",
    "old = ab_test[ab_test['landing_page'].isin(['old'])]"
   ]
  },
  {
   "cell_type": "code",
   "execution_count": 70,
   "id": "d44b2afe",
   "metadata": {},
   "outputs": [],
   "source": [
    "#new will be the data that include the treatment group\n",
    "new = ab_test[ab_test['landing_page'].isin(['new'])]"
   ]
  },
  {
   "cell_type": "code",
   "execution_count": 92,
   "id": "8b62881f",
   "metadata": {},
   "outputs": [
    {
     "data": {
      "text/plain": [
       "Text(0.5, 1.0, 'Time Spent on the Old Landing Page')"
      ]
     },
     "execution_count": 92,
     "metadata": {},
     "output_type": "execute_result"
    },
    {
     "data": {
      "image/png": "[encoded data removed]",
      "text/plain": [
       "<Figure size 360x360 with 1 Axes>"
      ]
     },
     "metadata": {
      "needs_background": "light"
     },
     "output_type": "display_data"
    }
   ],
   "source": [
    "#plot chart to visualize time spent on the Old Landing Page\n",
    "sns.displot(old['time_spent_on_the_page'],kde= 'True');\n",
    "plt.title('Time Spent on the Old Landing Page')"
   ]
  },
  {
   "cell_type": "code",
   "execution_count": 91,
   "id": "5ef52513",
   "metadata": {},
   "outputs": [
    {
     "data": {
      "text/plain": [
       "Text(0.5, 1.0, 'Time Spent on the New Landing Page')"
      ]
     },
     "execution_count": 91,
     "metadata": {},
     "output_type": "execute_result"
    },
    {
     "data": {
      "image/png": "[encoded data removed]",
      "text/plain": [
       "<Figure size 360x360 with 1 Axes>"
      ]
     },
     "metadata": {
      "needs_background": "light"
     },
     "output_type": "display_data"
    }
   ],
   "source": [
    "#plot chart to visualize time spent on the New Landing Page\n",
    "sns.displot(new['time_spent_on_the_page'],kde= 'True');\n",
    "plt.title('Time Spent on the New Landing Page')"
   ]
  },
  {
   "cell_type": "code",
   "execution_count": 78,
   "id": "89a44693",
   "metadata": {},
   "outputs": [
    {
     "name": "stdout",
     "output_type": "stream",
     "text": [
      "control    50\n",
      "Name: group, dtype: int64\n",
      "--------------------------------------------------\n",
      "old    50\n",
      "Name: landing_page, dtype: int64\n",
      "--------------------------------------------------\n",
      "no     29\n",
      "yes    21\n",
      "Name: converted, dtype: int64\n",
      "--------------------------------------------------\n",
      "Spanish    17\n",
      "French     17\n",
      "English    16\n",
      "Name: language_preferred, dtype: int64\n",
      "--------------------------------------------------\n"
     ]
    }
   ],
   "source": [
    "#Making a list of all categorical variables \n",
    "cat_col=['group', 'landing_page', 'converted', 'language_preferred']\n",
    "\n",
    "#Printing number of count of each unique value in each column\n",
    "for column in cat_col:\n",
    "    print(old[column].value_counts())\n",
    "    print('-'*50)\n",
    "    \n",
    "# 42 percent from the Old Landing Page converted\n",
    "# Both the old and new landing page had the same number of languages preferred"
   ]
  },
  {
   "cell_type": "code",
   "execution_count": 79,
   "id": "c2e0959c",
   "metadata": {},
   "outputs": [
    {
     "name": "stdout",
     "output_type": "stream",
     "text": [
      "treatment    50\n",
      "Name: group, dtype: int64\n",
      "--------------------------------------------------\n",
      "new    50\n",
      "Name: landing_page, dtype: int64\n",
      "--------------------------------------------------\n",
      "yes    33\n",
      "no     17\n",
      "Name: converted, dtype: int64\n",
      "--------------------------------------------------\n",
      "Spanish    17\n",
      "French     17\n",
      "English    16\n",
      "Name: language_preferred, dtype: int64\n",
      "--------------------------------------------------\n"
     ]
    }
   ],
   "source": [
    "#Making a list of all categorical variables \n",
    "cat_col=['group', 'landing_page', 'converted', 'language_preferred']\n",
    "\n",
    "#Printing number of count of each unique value in each column\n",
    "for column in cat_col:\n",
    "    print(new[column].value_counts())\n",
    "    print('-'*50)\n",
    "    \n",
    "# 66 percent from the New Landing Page data converted\n",
    "# Both the old and new landing page had the same number of languages preferred"
   ]
  },
  {
   "cell_type": "code",
   "execution_count": 215,
   "id": "e5342770",
   "metadata": {},
   "outputs": [
    {
     "data": {
      "text/plain": [
       "Text(0.5, 1.0, 'Language Preferred for Old Landing Page')"
      ]
     },
     "execution_count": 215,
     "metadata": {},
     "output_type": "execute_result"
    },
    {
     "data": {
      "image/png": "[encoded data removed]",
      "text/plain": [
       "<Figure size 432x288 with 1 Axes>"
      ]
     },
     "metadata": {
      "needs_background": "light"
     },
     "output_type": "display_data"
    }
   ],
   "source": [
    "# plot time spent on old landing page compared to language preferred\n",
    "sns.barplot(old['language_preferred'], old['time_spent_on_the_page']);\n",
    "plt.title('Language Preferred for Old Landing Page')"
   ]
  },
  {
   "cell_type": "code",
   "execution_count": 216,
   "id": "228ebe97",
   "metadata": {},
   "outputs": [
    {
     "data": {
      "text/plain": [
       "Text(0.5, 1.0, 'Language Preferred for New Landing Page')"
      ]
     },
     "execution_count": 216,
     "metadata": {},
     "output_type": "execute_result"
    },
    {
     "data": {
      "image/png": "[encoded data removed]",
      "text/plain": [
       "<Figure size 432x288 with 1 Axes>"
      ]
     },
     "metadata": {
      "needs_background": "light"
     },
     "output_type": "display_data"
    }
   ],
   "source": [
    "# plot time spent on new landing page compared to language preferred\n",
    "sns.barplot(new['language_preferred'], new['time_spent_on_the_page']);\n",
    "plt.title('Language Preferred for New Landing Page')"
   ]
  },
  {
   "cell_type": "code",
   "execution_count": 89,
   "id": "6e9a0eb3",
   "metadata": {},
   "outputs": [
    {
     "data": {
      "text/plain": [
       "<matplotlib.collections.PathCollection at 0x7fe5d91348b0>"
      ]
     },
     "execution_count": 89,
     "metadata": {},
     "output_type": "execute_result"
    },
    {
     "data": {
      "image/png": "[encoded data removed]",
      "text/plain": [
       "<Figure size 432x288 with 1 Axes>"
      ]
     },
     "metadata": {
      "needs_background": "light"
     },
     "output_type": "display_data"
    }
   ],
   "source": [
    "plt.scatter(old['language_preferred'], old['time_spent_on_the_page'], color='orange')"
   ]
  },
  {
   "cell_type": "code",
   "execution_count": 90,
   "id": "d5cdbb7b",
   "metadata": {},
   "outputs": [
    {
     "data": {
      "text/plain": [
       "<matplotlib.collections.PathCollection at 0x7fe5d91f49a0>"
      ]
     },
     "execution_count": 90,
     "metadata": {},
     "output_type": "execute_result"
    },
    {
     "data": {
      "image/png": "[encoded data removed]",
      "text/plain": [
       "<Figure size 432x288 with 1 Axes>"
      ]
     },
     "metadata": {
      "needs_background": "light"
     },
     "output_type": "display_data"
    }
   ],
   "source": [
    "plt.scatter(new['language_preferred'], new['time_spent_on_the_page'], color='green')"
   ]
  },
  {
   "cell_type": "markdown",
   "id": "36d871f8",
   "metadata": {},
   "source": [
    "# 2. Do the users spend more time on the new landing page than the old landing page?"
   ]
  },
  {
   "cell_type": "markdown",
   "id": "2c46eae3",
   "metadata": {},
   "source": [
    "**H0** : µO = µN\n",
    "\n",
    "**Ha** : µN > µ0"
   ]
  },
  {
   "cell_type": "code",
   "execution_count": 181,
   "id": "5e4f0a6d",
   "metadata": {},
   "outputs": [
    {
     "name": "stdout",
     "output_type": "stream",
     "text": [
      "The estimated mean is 4.5324\n",
      "The estimated standard deviation is 2.582\n"
     ]
    }
   ],
   "source": [
    "from scipy.stats import norm\n",
    "\n",
    "# estimating  the mean and standard deviation of time\n",
    "# spent on the Old Landing Page.\n",
    "mu = old[\"time_spent_on_the_page\"].mean()\n",
    "sigma= old[\"time_spent_on_the_page\"].std()\n",
    "print(\"The estimated mean is\", round(mu, 4))\n",
    "print(\"The estimated standard deviation is\", round(sigma, 4))"
   ]
  },
  {
   "cell_type": "code",
   "execution_count": 182,
   "id": "f54781aa",
   "metadata": {},
   "outputs": [
    {
     "name": "stdout",
     "output_type": "stream",
     "text": [
      "The estimated mean is 6.2232\n",
      "The estimated standard deviation is 1.817\n"
     ]
    }
   ],
   "source": [
    "# estimating  the mean and standard deviation of time\n",
    "# spent on the New Landing Page.\n",
    "mu = new[\"time_spent_on_the_page\"].mean()\n",
    "sigma = new[\"time_spent_on_the_page\"].std()\n",
    "print(\"The estimated mean is\", round(mu, 4))\n",
    "print(\"The estimated standard deviation is\", round(sigma, 4))"
   ]
  },
  {
   "cell_type": "markdown",
   "id": "ec8bb01e",
   "metadata": {},
   "source": [
    "Users in the old landing page spend an average of 4.5324 minutes with a standard deviation of 2.582 minutes\n",
    "\n",
    "Users in the new landing page spend an average of 6.2232 minutes with a standard deviation of 1.817 minutes"
   ]
  },
  {
   "cell_type": "code",
   "execution_count": 183,
   "id": "ac71e3e1",
   "metadata": {},
   "outputs": [],
   "source": [
    "import warnings\n",
    "warnings.filterwarnings('ignore')"
   ]
  },
  {
   "cell_type": "code",
   "execution_count": 234,
   "id": "a0a522a8",
   "metadata": {},
   "outputs": [
    {
     "name": "stderr",
     "output_type": "stream",
     "text": [
      "No handles with labels found to put in legend.\n"
     ]
    },
    {
     "data": {
      "image/png": "[encoded data removed]",
      "text/plain": [
       "<Figure size 432x288 with 1 Axes>"
      ]
     },
     "metadata": {
      "needs_background": "light"
     },
     "output_type": "display_data"
    }
   ],
   "source": [
    "# visualizing both graphs together \n",
    "o=np.arange(-5, 15, 00.25)\n",
    "n=np.arange(-5,15,0.25)\n",
    "\n",
    "plt.plot(o, norm.pdf(o, 4.5324, 2.582), color='orange')\n",
    "plt.plot(n, norm.pdf(n, 6.2232, 1.817), color='green')\n",
    "plt.legend()\n",
    "plt.xlabel('Mean Time for Landing Page')\n",
    "plt.ylabel('Density of Probability')\n",
    "plt.title('Time Spent on Old vs. New Landing Page')\n",
    "plt.show()"
   ]
  },
  {
   "cell_type": "code",
   "execution_count": 185,
   "id": "37ac8f9e",
   "metadata": {},
   "outputs": [
    {
     "name": "stdout",
     "output_type": "stream",
     "text": [
      "The p-value is 0.0001392381225166549\n"
     ]
    }
   ],
   "source": [
    "from scipy.stats import ttest_ind\n",
    "\n",
    "# find the p-value\n",
    "test_stat, p_value = ttest_ind(new['time_spent_on_the_page'], old['time_spent_on_the_page'], equal_var = False, alternative = 'greater')\n",
    "print('The p-value is ' + str(p_value))"
   ]
  },
  {
   "cell_type": "markdown",
   "id": "bf1a742a",
   "metadata": {},
   "source": [
    "***The p-value is 0.0013924 which is less than the given 0.05 level of significance, therefore the null hypothesis that the time spent of both landing page is the same is now rejected. The new landing page has more time spent than the old landing page.***"
   ]
  },
  {
   "cell_type": "markdown",
   "id": "b70e78e6",
   "metadata": {},
   "source": [
    "# 3. Is the conversion rate (the proportion of users who visit the landing page and get converted) for the new page greater than the conversion rate for the old page?"
   ]
  },
  {
   "cell_type": "markdown",
   "id": "17bcede9",
   "metadata": {},
   "source": [
    "**H0** : ConversionO = ConversionN\n",
    "\n",
    "**Ha** : ConversionN > Conversion0\n",
    "\n",
    "We know from the data above that 42 percent from the Old Landing Page converted and 66 percent from the New Landing Page data converted."
   ]
  },
  {
   "cell_type": "code",
   "execution_count": 243,
   "id": "247b86f1",
   "metadata": {
    "scrolled": true
   },
   "outputs": [
    {
     "data": {
      "image/png": "[encoded data removed]",
      "text/plain": [
       "<Figure size 432x288 with 1 Axes>"
      ]
     },
     "metadata": {
      "needs_background": "light"
     },
     "output_type": "display_data"
    }
   ],
   "source": [
    "fig = plt.figure()\n",
    "fig.suptitle('Conversion Old vs. New')\n",
    "sns.countplot(ab_test['converted'], hue=ab_test['landing_page']);"
   ]
  },
  {
   "cell_type": "code",
   "execution_count": 187,
   "id": "ed40f359",
   "metadata": {},
   "outputs": [
    {
     "name": "stdout",
     "output_type": "stream",
     "text": [
      "The p-value is  0.016052616408112556\n"
     ]
    }
   ],
   "source": [
    "from statsmodels.stats.proportion import proportions_ztest\n",
    "yes = np.array([33, 21])\n",
    "total=np.array([50, 50])\n",
    "test_stat1, p_value1 = proportions_ztest(yes, total)\n",
    "print('The p-value is ', str(p_value1))"
   ]
  },
  {
   "cell_type": "markdown",
   "id": "386b082d",
   "metadata": {},
   "source": [
    "***The p-value is 0.016053 which is also less than the given 0.05 level of significance, therefore the null hypothesis that the conversion rates for both landing pages is the same is now rejected. The new landing page has a greater rate of conversion than the old landing page.***"
   ]
  },
  {
   "cell_type": "markdown",
   "id": "9b5287d2",
   "metadata": {},
   "source": [
    "# 4. Does the converted status depend on the preferred language? "
   ]
  },
  {
   "cell_type": "markdown",
   "id": "6ff2b542",
   "metadata": {},
   "source": [
    "**H0** : Converted Status is Independent compared to Preferred Language\n",
    "\n",
    "**Ha** : Converted Status depends on Preferred Language "
   ]
  },
  {
   "cell_type": "code",
   "execution_count": 201,
   "id": "5109f031",
   "metadata": {},
   "outputs": [
    {
     "data": {
      "text/html": [
       "<div>\n",
       "<style scoped>\n",
       "    .dataframe tbody tr th:only-of-type {\n",
       "        vertical-align: middle;\n",
       "    }\n",
       "\n",
       "    .dataframe tbody tr th {\n",
       "        vertical-align: top;\n",
       "    }\n",
       "\n",
       "    .dataframe thead th {\n",
       "        text-align: right;\n",
       "    }\n",
       "</style>\n",
       "<table border=\"1\" class=\"dataframe\">\n",
       "  <thead>\n",
       "    <tr style=\"text-align: right;\">\n",
       "      <th>language_preferred</th>\n",
       "      <th>English</th>\n",
       "      <th>French</th>\n",
       "      <th>Spanish</th>\n",
       "      <th>Total</th>\n",
       "    </tr>\n",
       "    <tr>\n",
       "      <th>converted</th>\n",
       "      <th></th>\n",
       "      <th></th>\n",
       "      <th></th>\n",
       "      <th></th>\n",
       "    </tr>\n",
       "  </thead>\n",
       "  <tbody>\n",
       "    <tr>\n",
       "      <th>no</th>\n",
       "      <td>11</td>\n",
       "      <td>19</td>\n",
       "      <td>16</td>\n",
       "      <td>46</td>\n",
       "    </tr>\n",
       "    <tr>\n",
       "      <th>yes</th>\n",
       "      <td>21</td>\n",
       "      <td>15</td>\n",
       "      <td>18</td>\n",
       "      <td>54</td>\n",
       "    </tr>\n",
       "    <tr>\n",
       "      <th>Total</th>\n",
       "      <td>32</td>\n",
       "      <td>34</td>\n",
       "      <td>34</td>\n",
       "      <td>100</td>\n",
       "    </tr>\n",
       "  </tbody>\n",
       "</table>\n",
       "</div>"
      ],
      "text/plain": [
       "language_preferred  English  French  Spanish  Total\n",
       "converted                                          \n",
       "no                       11      19       16     46\n",
       "yes                      21      15       18     54\n",
       "Total                    32      34       34    100"
      ]
     },
     "execution_count": 201,
     "metadata": {},
     "output_type": "execute_result"
    }
   ],
   "source": [
    "converted=pd.crosstab(index=ab_test['converted'], columns=ab_test['language_preferred'], margins=True, margins_name='Total')\n",
    "converted"
   ]
  },
  {
   "cell_type": "code",
   "execution_count": 203,
   "id": "7141c916",
   "metadata": {},
   "outputs": [
    {
     "name": "stdout",
     "output_type": "stream",
     "text": [
      "The p-value is  0.7970832186581233\n"
     ]
    }
   ],
   "source": [
    "from scipy.stats import chi2_contingency\n",
    "chi2, p_value2, dof, expected=chi2_contingency(converted)\n",
    "print('The p-value is ', p_value2)"
   ]
  },
  {
   "cell_type": "markdown",
   "id": "834f1bec",
   "metadata": {},
   "source": [
    "***The p-value is 0.79708 which is greater than the given 0.05 level of significance, therefore the null hypothesis that the converted status is independent compared to Preferred Language is Not rejected. The converted status and and preferred language are independent of each other.***"
   ]
  },
  {
   "cell_type": "markdown",
   "id": "1186e0ff",
   "metadata": {},
   "source": [
    "# 5. Is the mean time spent on the new page same for the different language users?\n"
   ]
  },
  {
   "cell_type": "markdown",
   "id": "3c0ed7ec",
   "metadata": {},
   "source": [
    "**H0** : µS = µF = µE= µN\n",
    "\n",
    "**Ha** : Atleast one of the language mean is different\n",
    "\n",
    "µS is the mean for Spanish, µF is the mean for French, µE is the mean for English"
   ]
  },
  {
   "cell_type": "code",
   "execution_count": 232,
   "id": "2393af32",
   "metadata": {
    "scrolled": true
   },
   "outputs": [
    {
     "name": "stdout",
     "output_type": "stream",
     "text": [
      "language_preferred\n",
      "English    5.559063\n",
      "French     5.253235\n",
      "Spanish    5.331765\n",
      "Name: time_spent_on_the_page, dtype: float64\n"
     ]
    },
    {
     "data": {
      "image/png": "[encoded data removed]",
      "text/plain": [
       "<Figure size 504x504 with 1 Axes>"
      ]
     },
     "metadata": {
      "needs_background": "light"
     },
     "output_type": "display_data"
    }
   ],
   "source": [
    "# mean of carbon emission at different levels of the fuel_type factor\n",
    "print(ab_test.groupby(\"language_preferred\")[\"time_spent_on_the_page\"].mean())\n",
    "\n",
    "# draw the boxplot for visualization \n",
    "fig, ax = plt.subplots(figsize = (7,7))\n",
    "a = sns.boxplot(x= \"language_preferred\", y = 'time_spent_on_the_page' , data = ab_test, hue = 'language_preferred')\n",
    "a.set_title(\"Time On Landing Page Per Language\", fontsize=15)\n",
    "plt.show()"
   ]
  },
  {
   "cell_type": "markdown",
   "id": "427493ed",
   "metadata": {},
   "source": [
    "### Shapiro-Wilk's test"
   ]
  },
  {
   "cell_type": "code",
   "execution_count": 207,
   "id": "fd559aaa",
   "metadata": {},
   "outputs": [
    {
     "name": "stdout",
     "output_type": "stream",
     "text": [
      "The p-value is 0.5643684267997742\n"
     ]
    }
   ],
   "source": [
    "# Assumption 1: Normality\n",
    "# import the required function\n",
    "from scipy import stats\n",
    "\n",
    "# find the p-value\n",
    "w, p_value = stats.shapiro(ab_test['time_spent_on_the_page']) \n",
    "print('The p-value is', p_value)"
   ]
  },
  {
   "cell_type": "markdown",
   "id": "17b71dc1",
   "metadata": {},
   "source": [
    "### Levene’s test\n",
    "\n",
    "We will test the null hypothesis\n",
    "\n",
    "**H0** : All the population variances are equal\n",
    "\n",
    "against the alternative hypothesis\n",
    "\n",
    "**H0** : At least one variance is different from the rest"
   ]
  },
  {
   "cell_type": "code",
   "execution_count": 210,
   "id": "073b338c",
   "metadata": {},
   "outputs": [
    {
     "name": "stdout",
     "output_type": "stream",
     "text": [
      "The p-value is 0.06515086840327314\n"
     ]
    }
   ],
   "source": [
    "#Assumption 2: Homogeneity of Variance\n",
    "#import the required function\n",
    "from scipy.stats import levene\n",
    "statistic, p_value = levene( ab_test['time_spent_on_the_page'][ab_test['language_preferred']==\"Spanish\"], \n",
    "                                   ab_test['time_spent_on_the_page'][ab_test['language_preferred']==\"English\"], \n",
    "                                   ab_test['time_spent_on_the_page'][ab_test['language_preferred']==\"French\"])\n",
    "# find the p-value\n",
    "print('The p-value is', p_value)"
   ]
  },
  {
   "cell_type": "markdown",
   "id": "37463bde",
   "metadata": {},
   "source": [
    "### One-way Anova test"
   ]
  },
  {
   "cell_type": "code",
   "execution_count": 212,
   "id": "f745fa96",
   "metadata": {},
   "outputs": [
    {
     "name": "stdout",
     "output_type": "stream",
     "text": [
      "The p-value is 0.8665610536012648\n"
     ]
    }
   ],
   "source": [
    "#import the required function\n",
    "from scipy.stats import f_oneway\n",
    "\n",
    "# perform one-way anova test\n",
    "test_stat, p_value = f_oneway(ab_test.loc[ab_test['language_preferred'] == 'Spanish', 'time_spent_on_the_page'],\n",
    "                              ab_test.loc[ab_test['language_preferred'] == 'English', 'time_spent_on_the_page'],\n",
    "                              ab_test.loc[ab_test['language_preferred'] == 'French', 'time_spent_on_the_page'])\n",
    "print('The p-value is ' + str(p_value))"
   ]
  },
  {
   "cell_type": "markdown",
   "id": "b73ea817",
   "metadata": {},
   "source": [
    "### Multiple Comparison test (Tukey HSD)"
   ]
  },
  {
   "cell_type": "code",
   "execution_count": 214,
   "id": "e95570eb",
   "metadata": {},
   "outputs": [
    {
     "name": "stdout",
     "output_type": "stream",
     "text": [
      " Multiple Comparison of Means - Tukey HSD, FWER=0.05 \n",
      "=====================================================\n",
      " group1  group2 meandiff p-adj   lower  upper  reject\n",
      "-----------------------------------------------------\n",
      "English  French  -0.3058 0.8482 -1.7123 1.1006  False\n",
      "English Spanish  -0.2273    0.9 -1.6338 1.1792  False\n",
      " French Spanish   0.0785    0.9 -1.3065 1.4635  False\n",
      "-----------------------------------------------------\n"
     ]
    }
   ],
   "source": [
    "#import the required function\n",
    "from statsmodels.stats.multicomp import pairwise_tukeyhsd\n",
    "\n",
    "# perform multiple pairwise comparison (Tukey HSD)\n",
    "comp = pairwise_tukeyhsd(endog = ab_test['time_spent_on_the_page'], groups = ab_test['language_preferred'], alpha = 0.05)\n",
    "print(comp)"
   ]
  },
  {
   "cell_type": "markdown",
   "id": "310a7bca",
   "metadata": {},
   "source": [
    "***Since the p-values (p-adj column) for comparing the mean time spent on the page for the pairs English-French, English-Spanish and French-Spanish is greater than the significance level, the null hypothesis of equality of all population will NOT be rejected.***\n",
    "\n",
    "***Thus, we can say that the mean time spent on the pages is similar amongst all language preference.***"
   ]
  },
  {
   "cell_type": "code",
   "execution_count": null,
   "id": "41a85408",
   "metadata": {},
   "outputs": [],
   "source": []
  }
 ],
 "metadata": {
  "kernelspec": {
   "display_name": "Python 3",
   "language": "python",
   "name": "python3"
  },
  "language_info": {
   "codemirror_mode": {
    "name": "ipython",
    "version": 3
   },
   "file_extension": ".py",
   "mimetype": "text/x-python",
   "name": "python",
   "nbconvert_exporter": "python",
   "pygments_lexer": "ipython3",
   "version": "3.8.8"
  }
 },
 "nbformat": 4,
 "nbformat_minor": 5
}
